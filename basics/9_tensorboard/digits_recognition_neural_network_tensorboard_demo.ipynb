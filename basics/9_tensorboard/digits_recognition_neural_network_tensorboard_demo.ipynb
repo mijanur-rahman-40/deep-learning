{
 "cells": [
  {
   "attachments": {},
   "cell_type": "markdown",
   "metadata": {},
   "source": [
    "<h2 align=\"center\">Tensorboard demo using handwritten digits classification using neural network</h2>"
   ]
  },
  {
   "cell_type": "markdown",
   "metadata": {},
   "source": [
    "In this notebook we will classify handwritten digits using a simple neural network which has only input and output layers. We will than add a hidden layer and see how the performance of the model improves"
   ]
  },
  {
   "cell_type": "code",
   "execution_count": 1,
   "metadata": {},
   "outputs": [
    {
     "name": "stderr",
     "output_type": "stream",
     "text": [
      "2023-06-25 11:59:01.213553: I tensorflow/tsl/cuda/cudart_stub.cc:28] Could not find cuda drivers on your machine, GPU will not be used.\n",
      "2023-06-25 11:59:02.372457: I tensorflow/tsl/cuda/cudart_stub.cc:28] Could not find cuda drivers on your machine, GPU will not be used.\n",
      "2023-06-25 11:59:02.373999: I tensorflow/core/platform/cpu_feature_guard.cc:182] This TensorFlow binary is optimized to use available CPU instructions in performance-critical operations.\n",
      "To enable the following instructions: AVX2 FMA, in other operations, rebuild TensorFlow with the appropriate compiler flags.\n",
      "2023-06-25 11:59:11.447858: W tensorflow/compiler/tf2tensorrt/utils/py_utils.cc:38] TF-TRT Warning: Could not find TensorRT\n"
     ]
    }
   ],
   "source": [
    "import tensorflow as tf\n",
    "from tensorflow import keras\n",
    "import matplotlib.pyplot as plt\n",
    "%matplotlib inline\n",
    "import numpy as np"
   ]
  },
  {
   "cell_type": "code",
   "execution_count": 2,
   "metadata": {},
   "outputs": [],
   "source": [
    "(X_train, y_train) , (X_test, y_test) = keras.datasets.mnist.load_data()"
   ]
  },
  {
   "cell_type": "code",
   "execution_count": 3,
   "metadata": {},
   "outputs": [
    {
     "data": {
      "text/plain": [
       "60000"
      ]
     },
     "execution_count": 3,
     "metadata": {},
     "output_type": "execute_result"
    }
   ],
   "source": [
    "len(X_train)"
   ]
  },
  {
   "cell_type": "code",
   "execution_count": 4,
   "metadata": {},
   "outputs": [
    {
     "data": {
      "text/plain": [
       "10000"
      ]
     },
     "execution_count": 4,
     "metadata": {},
     "output_type": "execute_result"
    }
   ],
   "source": [
    "len(X_test)"
   ]
  },
  {
   "cell_type": "code",
   "execution_count": 5,
   "metadata": {},
   "outputs": [
    {
     "data": {
      "text/plain": [
       "(28, 28)"
      ]
     },
     "execution_count": 5,
     "metadata": {},
     "output_type": "execute_result"
    }
   ],
   "source": [
    "X_train[0].shape"
   ]
  },
  {
   "cell_type": "code",
   "execution_count": 6,
   "metadata": {},
   "outputs": [
    {
     "data": {
      "text/plain": [
       "<matplotlib.image.AxesImage at 0x7f811d7f6fb0>"
      ]
     },
     "execution_count": 6,
     "metadata": {},
     "output_type": "execute_result"
    },
    {
     "data": {
      "image/png": "[encoded data removed]",
      "text/plain": [
       "<Figure size 480x480 with 1 Axes>"
      ]
     },
     "metadata": {},
     "output_type": "display_data"
    }
   ],
   "source": [
    "plt.matshow(X_train[0])"
   ]
  },
  {
   "cell_type": "code",
   "execution_count": 7,
   "metadata": {},
   "outputs": [
    {
     "data": {
      "text/plain": [
       "5"
      ]
     },
     "execution_count": 7,
     "metadata": {},
     "output_type": "execute_result"
    }
   ],
   "source": [
    "y_train[0]"
   ]
  },
  {
   "cell_type": "code",
   "execution_count": 8,
   "metadata": {},
   "outputs": [],
   "source": [
    "X_train = X_train / 255\n",
    "X_test = X_test / 255"
   ]
  },
  {
   "cell_type": "code",
   "execution_count": 9,
   "metadata": {},
   "outputs": [],
   "source": [
    "X_train_flattened = X_train.reshape(len(X_train), 28*28)\n",
    "X_test_flattened = X_test.reshape(len(X_test), 28*28)"
   ]
  },
  {
   "cell_type": "code",
   "execution_count": 10,
   "metadata": {},
   "outputs": [
    {
     "data": {
      "text/plain": [
       "(60000, 784)"
      ]
     },
     "execution_count": 10,
     "metadata": {},
     "output_type": "execute_result"
    }
   ],
   "source": [
    "X_train_flattened.shape"
   ]
  },
  {
   "attachments": {},
   "cell_type": "markdown",
   "metadata": {},
   "source": [
    "<h3>Using Flatten layer so that we don't have to call .reshape on input dataset</h3>"
   ]
  },
  {
   "cell_type": "code",
   "execution_count": 11,
   "metadata": {
    "scrolled": false
   },
   "outputs": [
    {
     "name": "stderr",
     "output_type": "stream",
     "text": [
      "2023-06-25 11:59:27.233426: W tensorflow/tsl/framework/cpu_allocator_impl.cc:83] Allocation of 188160000 exceeds 10% of free system memory.\n"
     ]
    },
    {
     "name": "stdout",
     "output_type": "stream",
     "text": [
      "Epoch 1/5\n",
      "1875/1875 [==============================] - 8s 4ms/step - loss: 0.2750 - accuracy: 0.9226\n",
      "Epoch 2/5\n",
      "  15/1875 [..............................] - ETA: 7s - loss: 0.1445 - accuracy: 0.9646"
     ]
    },
    {
     "name": "stderr",
     "output_type": "stream",
     "text": [
      "2023-06-25 11:59:36.320023: W tensorflow/tsl/framework/cpu_allocator_impl.cc:83] Allocation of 18816000 exceeds 10% of free system memory.\n"
     ]
    },
    {
     "name": "stdout",
     "output_type": "stream",
     "text": [
      "1875/1875 [==============================] - 6s 3ms/step - loss: 0.1244 - accuracy: 0.9632\n",
      "Epoch 3/5\n",
      "  48/1875 [..............................] - ETA: 6s - loss: 0.0764 - accuracy: 0.9772"
     ]
    },
    {
     "name": "stderr",
     "output_type": "stream",
     "text": [
      "2023-06-25 11:59:42.883455: W tensorflow/tsl/framework/cpu_allocator_impl.cc:83] Allocation of 18816000 exceeds 10% of free system memory.\n"
     ]
    },
    {
     "name": "stdout",
     "output_type": "stream",
     "text": [
      "1875/1875 [==============================] - 6s 3ms/step - loss: 0.0872 - accuracy: 0.9736\n",
      "Epoch 4/5\n",
      "  49/1875 [..............................] - ETA: 5s - loss: 0.0682 - accuracy: 0.9758"
     ]
    },
    {
     "name": "stderr",
     "output_type": "stream",
     "text": [
      "2023-06-25 11:59:48.938404: W tensorflow/tsl/framework/cpu_allocator_impl.cc:83] Allocation of 18816000 exceeds 10% of free system memory.\n"
     ]
    },
    {
     "name": "stdout",
     "output_type": "stream",
     "text": [
      "1875/1875 [==============================] - 6s 3ms/step - loss: 0.0653 - accuracy: 0.9797\n",
      "Epoch 5/5\n",
      "  46/1875 [..............................] - ETA: 6s - loss: 0.0401 - accuracy: 0.9891"
     ]
    },
    {
     "name": "stderr",
     "output_type": "stream",
     "text": [
      "2023-06-25 11:59:54.900951: W tensorflow/tsl/framework/cpu_allocator_impl.cc:83] Allocation of 18816000 exceeds 10% of free system memory.\n"
     ]
    },
    {
     "name": "stdout",
     "output_type": "stream",
     "text": [
      "1875/1875 [==============================] - 7s 3ms/step - loss: 0.0527 - accuracy: 0.9837\n"
     ]
    },
    {
     "data": {
      "text/plain": [
       "<keras.callbacks.History at 0x7f811ce7bfd0>"
      ]
     },
     "execution_count": 11,
     "metadata": {},
     "output_type": "execute_result"
    }
   ],
   "source": [
    "model = keras.Sequential([\n",
    "    keras.layers.Flatten(input_shape=(28, 28)),\n",
    "    keras.layers.Dense(100, activation='relu'),\n",
    "    keras.layers.Dense(10, activation='sigmoid')\n",
    "])\n",
    "\n",
    "model.compile(optimizer='adam',\n",
    "              loss='sparse_categorical_crossentropy',\n",
    "              metrics=['accuracy'])\n",
    "\n",
    "tb_callback = tf.keras.callbacks.TensorBoard(log_dir=\"logs/\", histogram_freq=1)\n",
    "\n",
    "model.fit(X_train, y_train, epochs=5, callbacks=[tb_callback])"
   ]
  },
  {
   "cell_type": "code",
   "execution_count": 14,
   "metadata": {},
   "outputs": [
    {
     "data": {
      "text/plain": [
       "ERROR: Failed to launch TensorBoard (exited with 127).\n",
       "Contents of stderr:\n",
       "/home/mijanur/Desktop/AI/DL NLP/deep-learning/venv/bin/tensorboard: 2: exec: /home/mijanur/Desktop/DEEP LEARNING/deep-learning/venv/bin/python3: not found"
      ]
     },
     "metadata": {},
     "output_type": "display_data"
    }
   ],
   "source": [
    "%load_ext tensorboard\n",
    "%tensorboard --logdir logs/train"
   ]
  },
  {
   "cell_type": "markdown",
   "metadata": {},
   "source": [
    "Either run above inline magic or go to git bash or your command prompt and type below to run it,\n",
    "`tensorboard --logdir logs/`\n",
    "This will launch tensorboard at this url which you can open in your browser `http://localhost:6006/`"
   ]
  },
  {
   "cell_type": "code",
   "execution_count": 13,
   "metadata": {},
   "outputs": [
    {
     "data": {
      "text/plain": [
       "[array([[-0.06175991, -0.02103661,  0.00029269, ..., -0.00105775,\n",
       "         -0.07625145, -0.07867143],\n",
       "        [-0.02175131, -0.03995942,  0.03640836, ..., -0.01020743,\n",
       "          0.06006697,  0.00017264],\n",
       "        [-0.07846686, -0.04663178,  0.00718956, ..., -0.06134988,\n",
       "         -0.00331801, -0.06787493],\n",
       "        ...,\n",
       "        [ 0.03565432,  0.04943866,  0.01166447, ...,  0.05054621,\n",
       "          0.02581601, -0.04823016],\n",
       "        [ 0.00533505, -0.01390835, -0.03598362, ..., -0.00239499,\n",
       "          0.04495886, -0.05216267],\n",
       "        [-0.05442818,  0.02314196,  0.03838286, ...,  0.02784905,\n",
       "         -0.01127762,  0.03406438]], dtype=float32),\n",
       " array([-0.10819875,  0.08884261,  0.03895784,  0.10421192, -0.06304032,\n",
       "         0.03390739, -0.03177046, -0.08675589,  0.12294889, -0.08459484,\n",
       "        -0.00727282,  0.12556666,  0.16235547,  0.02226699,  0.14035048,\n",
       "        -0.03775923,  0.06770086,  0.03418496,  0.07276947,  0.02096713,\n",
       "         0.04135311,  0.00435266, -0.0019959 , -0.05401217,  0.10792751,\n",
       "        -0.04843212,  0.09530231,  0.11426134,  0.13445666,  0.20531677,\n",
       "        -0.00138386, -0.06705086,  0.10311429,  0.00594011, -0.08973026,\n",
       "         0.06129246,  0.03971714,  0.18386948,  0.03140536,  0.03964435,\n",
       "        -0.07065627,  0.05485709, -0.06940611,  0.11958426,  0.01688964,\n",
       "        -0.05569804, -0.06684753,  0.19989747,  0.08914491, -0.01793561,\n",
       "        -0.00445209, -0.09001617, -0.15504417,  0.05052711,  0.18543026,\n",
       "        -0.12089654, -0.07419451,  0.09021628,  0.07285576, -0.00444702,\n",
       "         0.1514585 ,  0.01632741,  0.12461183,  0.14895077,  0.09214058,\n",
       "        -0.01873997, -0.17279008,  0.08498765,  0.06616066,  0.10216947,\n",
       "         0.04764577, -0.12439601,  0.1103567 ,  0.10363699,  0.01759895,\n",
       "         0.00509558,  0.02764642,  0.06562965, -0.08749118,  0.01240836,\n",
       "         0.08761004,  0.09557839,  0.02310212,  0.03223935,  0.12465079,\n",
       "         0.07294545,  0.03370193,  0.10842249, -0.0245789 , -0.05527763,\n",
       "         0.13423076, -0.08449247, -0.00661754,  0.02489821,  0.07357688,\n",
       "         0.18075117,  0.10961726,  0.01866958, -0.08841826, -0.02993269],\n",
       "       dtype=float32),\n",
       " array([[ 1.68164730e-01, -1.21470772e-01, -3.74052152e-02,\n",
       "          7.14761466e-02,  3.56968015e-01, -3.61624837e-01,\n",
       "         -2.24069178e-01, -1.25219598e-01, -8.10606599e-01,\n",
       "          2.32081309e-01],\n",
       "        [-2.25564581e-03,  1.15630232e-01, -3.35438609e-01,\n",
       "         -1.91938892e-01, -1.03016526e-01,  4.79823679e-01,\n",
       "          2.86251247e-01, -4.14492875e-01, -5.41878521e-01,\n",
       "          2.42447555e-01],\n",
       "        [-1.01767920e-01,  1.97908923e-01, -2.95708418e-01,\n",
       "          2.78301127e-02, -4.27825041e-02, -9.64749008e-02,\n",
       "         -4.55913037e-01,  2.21624583e-01, -6.67892309e-05,\n",
       "          2.47068182e-01],\n",
       "        [-3.98934543e-01,  1.23653337e-01, -1.37727365e-01,\n",
       "          2.00007379e-01,  9.16581303e-02,  2.21246541e-01,\n",
       "          2.01061457e-01,  1.17702268e-01,  3.04233700e-01,\n",
       "         -1.85486674e-01],\n",
       "        [ 2.09192887e-01, -3.21881354e-01, -1.00017883e-01,\n",
       "          6.56695217e-02,  1.84246302e-01, -6.78370297e-02,\n",
       "          1.27642155e-01, -3.55634689e-02,  1.24603994e-01,\n",
       "          8.75300393e-02],\n",
       "        [-7.21974850e-01,  6.28966242e-02,  3.12754214e-01,\n",
       "          2.87368125e-03,  2.71344155e-01, -7.74525478e-03,\n",
       "         -2.04225719e-01,  2.24675119e-01,  3.11509609e-01,\n",
       "         -4.41288859e-01],\n",
       "        [ 2.01610792e-02,  2.19761044e-01,  1.53567210e-01,\n",
       "          1.20276503e-01, -4.72304672e-01,  3.86165172e-01,\n",
       "          9.03099850e-02,  1.86387166e-01, -1.90904692e-01,\n",
       "         -7.05234230e-01],\n",
       "        [ 2.98737194e-02, -2.81755209e-01, -5.68690710e-03,\n",
       "          1.85576588e-01, -5.77405281e-02, -1.10343836e-01,\n",
       "         -7.35245347e-02,  3.88634093e-02,  1.38388112e-01,\n",
       "          7.24597946e-02],\n",
       "        [ 4.64313775e-02, -3.48021120e-01,  3.10877599e-02,\n",
       "         -3.50862712e-01,  4.46292043e-01,  1.45163968e-01,\n",
       "          3.02164346e-01, -2.23823972e-02, -2.30158389e-01,\n",
       "         -1.65495038e-01],\n",
       "        [ 2.33615711e-01,  3.08855474e-01, -6.07534170e-01,\n",
       "         -4.35225636e-01, -5.77662475e-02, -9.43222921e-03,\n",
       "          3.44812810e-01, -3.05456612e-02, -3.89143914e-01,\n",
       "         -1.91096038e-01],\n",
       "        [-6.32876575e-01,  2.09655479e-01, -3.15188169e-01,\n",
       "          3.46603990e-01,  3.98038954e-01,  1.42677024e-01,\n",
       "         -9.39013839e-01, -4.55903053e-01, -3.95087898e-01,\n",
       "          2.22401112e-01],\n",
       "        [-1.89797610e-01,  1.30370229e-01,  1.71152622e-01,\n",
       "         -5.40827274e-01,  3.90306190e-02,  1.97476894e-01,\n",
       "         -4.76729900e-01,  3.67925346e-01, -5.45936525e-01,\n",
       "          2.22076356e-01],\n",
       "        [ 2.22673953e-01,  1.02747038e-01,  1.92826495e-01,\n",
       "         -5.19773960e-01,  3.05017769e-01, -1.44545496e-01,\n",
       "         -2.96634883e-01,  4.62360114e-01, -2.66082138e-01,\n",
       "         -2.20155939e-01],\n",
       "        [-4.70588237e-01,  2.87846804e-01,  6.34911954e-02,\n",
       "          3.04872513e-01, -6.64869726e-01,  3.45397085e-01,\n",
       "         -1.89521760e-01,  2.66656995e-01, -8.47411156e-02,\n",
       "         -2.69539177e-01],\n",
       "        [ 1.31683990e-01, -5.62953532e-01, -8.03734884e-02,\n",
       "         -3.35217565e-01,  3.11963320e-01,  2.76065439e-01,\n",
       "         -4.61999476e-02,  7.79845566e-02,  5.40143996e-02,\n",
       "          1.16536900e-01],\n",
       "        [-5.20172596e-01, -1.20172992e-01,  2.91586041e-01,\n",
       "          9.78226811e-02, -4.64679271e-01, -3.36578339e-01,\n",
       "         -6.23283386e-02,  7.90942758e-02,  2.75228731e-02,\n",
       "         -1.06811047e-01],\n",
       "        [ 1.24416286e-02, -5.18861972e-02, -5.09783328e-01,\n",
       "         -2.33938828e-01, -7.29735255e-01,  1.75692573e-01,\n",
       "          2.20073342e-01, -2.79888153e-01, -1.30588338e-01,\n",
       "         -2.35557839e-01],\n",
       "        [-3.72764826e-01,  1.20366380e-01,  2.43193969e-01,\n",
       "          8.38740841e-02, -9.28724110e-02,  2.12922871e-01,\n",
       "         -4.23256695e-01, -6.55766577e-02,  7.30721876e-02,\n",
       "         -2.55363792e-01],\n",
       "        [-1.73871711e-01,  5.38614653e-02,  1.54854596e-01,\n",
       "         -2.85460770e-01,  5.07503748e-02, -1.80744810e-03,\n",
       "         -4.18844610e-01,  2.30945557e-01, -1.05529763e-02,\n",
       "          2.80590743e-01],\n",
       "        [-6.61155224e-01, -5.13331354e-01, -3.68223190e-01,\n",
       "          3.18932325e-01, -3.76958966e-01, -1.53280888e-02,\n",
       "         -4.13986087e-01,  1.29888961e-02, -6.16973341e-01,\n",
       "          2.83778608e-01],\n",
       "        [-4.04747635e-01, -3.12581025e-02,  4.01999801e-01,\n",
       "         -7.25629404e-02, -7.21411228e-01,  1.06294252e-01,\n",
       "          4.96038720e-02, -9.33727250e-03,  1.37294129e-01,\n",
       "         -7.65372813e-01],\n",
       "        [ 3.12548965e-01, -3.32984403e-02,  2.91908681e-01,\n",
       "         -9.21289623e-02, -3.83813560e-01, -6.98592842e-01,\n",
       "          1.03191528e-02,  1.40123397e-01, -2.68533658e-02,\n",
       "         -5.66778444e-02],\n",
       "        [ 2.18943924e-01, -5.60375392e-01, -1.51957780e-01,\n",
       "         -3.20668668e-01,  3.48428786e-02, -1.68293729e-01,\n",
       "          2.64266044e-01, -8.71193781e-02,  1.06257975e-01,\n",
       "         -1.56273052e-01],\n",
       "        [-5.20599037e-02,  3.23858149e-02, -2.88123954e-02,\n",
       "          2.26765484e-01, -2.84629852e-01, -6.30866364e-02,\n",
       "         -5.16703427e-01,  2.45872196e-02,  2.07529038e-01,\n",
       "          5.44141307e-02],\n",
       "        [ 3.02955657e-01,  2.22884759e-01,  4.02449340e-01,\n",
       "         -1.52014852e-01, -5.41821480e-01,  5.84250269e-03,\n",
       "          4.00846489e-02, -1.99471954e-02, -6.94478035e-01,\n",
       "         -2.71240324e-01],\n",
       "        [-2.54648983e-01,  3.66350189e-02, -4.06592697e-01,\n",
       "          4.41934854e-01, -3.53764534e-01,  4.51080322e-01,\n",
       "         -5.49646556e-01, -5.21959662e-01, -2.17493534e-01,\n",
       "          1.52230218e-01],\n",
       "        [-2.29300335e-01,  1.56326115e-01, -9.53335688e-02,\n",
       "         -4.87924777e-02,  7.92034343e-02, -1.15661733e-01,\n",
       "          5.74300699e-02, -2.04298690e-01,  2.06284359e-01,\n",
       "         -2.81358659e-01],\n",
       "        [ 2.06183672e-01,  2.02824697e-01,  4.91431504e-02,\n",
       "         -2.73778588e-01, -4.63533223e-01,  8.02418813e-02,\n",
       "          3.34384888e-01,  1.19492240e-01, -2.18162611e-01,\n",
       "         -5.11553228e-01],\n",
       "        [ 1.12857401e-01, -3.17650624e-02, -7.28200257e-01,\n",
       "         -1.90869421e-01,  3.05823237e-01,  2.20906764e-01,\n",
       "         -6.39227331e-02, -3.22449714e-01,  4.67028469e-02,\n",
       "          1.25205263e-01],\n",
       "        [-5.57675302e-01, -6.07182324e-01, -9.44159925e-02,\n",
       "         -1.14052840e-01,  2.43349671e-01,  2.52232164e-01,\n",
       "         -7.24544585e-01,  9.31971818e-02,  1.88241780e-01,\n",
       "          2.15632558e-01],\n",
       "        [-2.66223073e-01, -1.58136934e-02, -1.31721385e-02,\n",
       "          2.31342986e-01, -1.73301205e-01, -4.09181267e-02,\n",
       "         -1.07829921e-01, -1.50656313e-01,  1.94929495e-01,\n",
       "          5.19954525e-02],\n",
       "        [ 2.69393802e-01, -8.14013407e-02,  2.60825843e-01,\n",
       "          4.29848470e-02,  1.75333560e-01, -5.23005188e-01,\n",
       "         -3.29601914e-01,  8.12895969e-02, -2.02760100e-01,\n",
       "         -3.69933015e-03],\n",
       "        [-3.16908164e-03, -1.88173801e-01, -6.27047122e-02,\n",
       "          1.83049664e-01,  7.82400146e-02,  1.23555385e-01,\n",
       "         -4.18593228e-01,  5.13224863e-02,  2.32461855e-01,\n",
       "          1.36315376e-01],\n",
       "        [-2.32774854e-01,  6.27667457e-02, -2.54775792e-01,\n",
       "         -6.46899641e-01,  6.33083582e-01,  1.62489280e-01,\n",
       "          2.49761328e-01,  3.64106417e-01,  2.82080501e-01,\n",
       "         -5.52395105e-01],\n",
       "        [-2.64094383e-01,  2.10182697e-01,  1.29746720e-01,\n",
       "          2.23794013e-01, -5.37249967e-02, -2.44187891e-01,\n",
       "          3.19590449e-01,  2.36040026e-01,  1.00447819e-01,\n",
       "         -7.62262642e-02],\n",
       "        [-7.87370726e-02, -1.89057752e-01,  1.42304331e-01,\n",
       "         -9.53917131e-02, -1.09364294e-01, -6.91373134e-03,\n",
       "          5.70806749e-02, -1.85554966e-01,  2.10726380e-01,\n",
       "          9.84889120e-02],\n",
       "        [ 1.14079535e-01, -1.73383847e-01,  2.14004010e-01,\n",
       "         -5.88787161e-02,  2.33874768e-01, -5.65361559e-01,\n",
       "         -3.97855133e-01,  2.19853610e-01,  1.39211118e-01,\n",
       "          2.27534011e-01],\n",
       "        [ 9.45941955e-02,  3.15360516e-01,  4.47324038e-01,\n",
       "          2.33904682e-02, -3.40815574e-01,  4.30255741e-01,\n",
       "         -1.70541123e-01, -1.99654832e-01, -5.09534419e-01,\n",
       "         -2.92428970e-01],\n",
       "        [-5.90473831e-01,  3.27468455e-01, -2.12244317e-01,\n",
       "          1.51914254e-01,  5.18450737e-01,  1.12937152e-01,\n",
       "         -4.21792299e-01,  1.34863511e-01,  1.29068002e-01,\n",
       "         -1.90569326e-01],\n",
       "        [ 9.03306529e-02, -1.61267251e-01,  9.37432796e-02,\n",
       "         -2.30829120e-02, -6.81186259e-01,  2.56345898e-01,\n",
       "          2.62530208e-01, -4.22345847e-01, -2.72753716e-01,\n",
       "         -1.86231975e-02],\n",
       "        [-1.78960979e-01,  2.96453655e-01, -4.48758304e-01,\n",
       "          3.38126093e-01,  2.28606045e-01, -5.44557035e-01,\n",
       "          1.20686265e-02, -1.93146169e-01, -4.61243004e-01,\n",
       "         -4.33451653e-01],\n",
       "        [ 2.49479085e-01, -5.85784853e-01,  1.69933334e-01,\n",
       "          5.81883527e-02,  8.09876770e-02,  1.05546080e-01,\n",
       "         -2.07494870e-01,  9.69363004e-02,  1.65096894e-01,\n",
       "          8.39372575e-02],\n",
       "        [-1.57274947e-01,  6.74096525e-01, -3.86879951e-01,\n",
       "         -2.60668129e-01,  1.76726863e-01, -4.44462329e-01,\n",
       "          3.99823904e-01,  1.18659049e-01, -3.04909348e-01,\n",
       "         -3.29191387e-01],\n",
       "        [-7.03461885e-01,  1.32329792e-01, -1.13167260e-02,\n",
       "         -1.39676645e-01,  2.74087638e-01,  2.25079477e-01,\n",
       "         -5.94359875e-01, -1.83232173e-01, -1.69196099e-01,\n",
       "          6.97896704e-02],\n",
       "        [ 1.39564410e-01, -3.32738250e-01,  2.30588019e-01,\n",
       "         -1.78576820e-02, -4.67929363e-01,  1.78086713e-01,\n",
       "          2.63552278e-01, -4.53951925e-01, -1.89203978e-01,\n",
       "         -8.62678438e-02],\n",
       "        [ 1.49529278e-01, -2.45287731e-01, -1.01743549e-01,\n",
       "          1.38566479e-01, -6.02004528e-02, -2.71722451e-02,\n",
       "         -2.35085458e-01,  1.60821721e-01,  2.78323460e-02,\n",
       "          5.43013662e-02],\n",
       "        [ 4.35120314e-01, -2.84299135e-01, -1.52852573e-02,\n",
       "          2.03754678e-02, -1.16268188e-01, -1.66582376e-01,\n",
       "         -4.89069521e-01,  1.47024646e-01, -4.43490744e-01,\n",
       "          1.99024454e-01],\n",
       "        [-2.28556365e-01,  1.16579935e-01,  2.50806659e-01,\n",
       "         -2.73914069e-01, -8.04019868e-02,  1.92505941e-01,\n",
       "          2.28214771e-01, -5.59919536e-01,  1.20463736e-01,\n",
       "          1.09663606e-01],\n",
       "        [-5.53561151e-01, -5.69660962e-02, -3.66005301e-01,\n",
       "          1.15118091e-04,  3.46921265e-01,  1.83454558e-01,\n",
       "         -1.30973086e-02,  1.13957919e-01, -3.96066099e-01,\n",
       "          3.25859845e-01],\n",
       "        [-1.56384960e-01,  2.40745708e-01,  3.14493269e-01,\n",
       "         -5.83297670e-01,  3.32902372e-01, -3.45979422e-01,\n",
       "          1.21590450e-01,  2.16295987e-01, -6.07911311e-02,\n",
       "          2.04421520e-01],\n",
       "        [ 1.66872099e-01,  2.05929428e-01,  2.13804647e-01,\n",
       "          1.19365165e-02, -5.22109687e-01,  1.65543020e-01,\n",
       "          9.38105062e-02, -3.43912393e-01,  1.64978489e-01,\n",
       "          5.47462665e-02],\n",
       "        [ 1.21975079e-01,  2.60590196e-01, -3.29745770e-01,\n",
       "         -2.24308237e-01,  1.64882123e-01, -1.51432574e-01,\n",
       "          1.37970462e-01,  5.92009842e-01,  9.55275521e-02,\n",
       "         -5.26406109e-01],\n",
       "        [ 3.45598042e-01, -4.57094043e-01, -6.84869766e-01,\n",
       "          3.10515672e-01, -1.61654532e-01,  4.67076823e-02,\n",
       "          2.87583202e-01, -4.30580229e-01,  7.70262778e-02,\n",
       "          1.37210801e-01],\n",
       "        [ 1.65249184e-01, -4.25710738e-01, -1.10651031e-01,\n",
       "          4.74269181e-01, -6.76321566e-01,  3.35669607e-01,\n",
       "          2.81200826e-01,  2.78173149e-01, -7.40311071e-02,\n",
       "         -2.40662560e-01],\n",
       "        [-4.71285164e-01, -3.31728905e-01,  2.78378636e-01,\n",
       "          2.74753217e-02,  1.46441549e-01,  1.52604058e-01,\n",
       "          2.99992889e-01, -6.07960671e-02, -1.03399351e-01,\n",
       "         -2.63630599e-01],\n",
       "        [ 2.26810098e-01,  2.12291092e-01,  2.17021853e-01,\n",
       "          2.28250116e-01, -6.10891342e-01, -3.31331909e-01,\n",
       "          4.20161150e-02, -1.18142590e-02,  2.21792713e-01,\n",
       "          8.60554427e-02],\n",
       "        [ 9.00020078e-02,  2.44826540e-01,  2.46712953e-01,\n",
       "          1.95671305e-01,  1.71231955e-01, -4.51274216e-01,\n",
       "         -9.83259752e-02,  1.08016081e-01,  1.65680990e-01,\n",
       "          2.04001427e-01],\n",
       "        [ 2.06111848e-01,  9.40950885e-02, -9.61930975e-02,\n",
       "         -3.06465447e-01, -7.97553957e-01,  3.49888593e-01,\n",
       "         -2.44186372e-01,  3.41575384e-01,  1.39693007e-01,\n",
       "         -1.01178415e-01],\n",
       "        [ 3.34296852e-01, -1.29831254e-01, -8.73960257e-02,\n",
       "         -8.90186653e-02, -3.93294871e-01,  1.91179171e-01,\n",
       "          2.56416827e-01, -7.26169199e-02,  2.43565008e-01,\n",
       "          1.12224795e-01],\n",
       "        [ 9.64392722e-03,  1.09882124e-01,  6.13293834e-02,\n",
       "          6.33493736e-02, -5.57836473e-01, -3.49787995e-02,\n",
       "         -2.50234097e-01,  1.62349254e-01,  7.26994798e-02,\n",
       "         -1.84920013e-01],\n",
       "        [-1.60358116e-01,  7.24737272e-02, -3.87875855e-01,\n",
       "         -1.63610920e-01,  1.25864521e-01,  4.21626419e-01,\n",
       "         -4.72701550e-01,  2.48868376e-01,  1.41834185e-01,\n",
       "         -9.63276029e-02],\n",
       "        [ 2.22117230e-01,  2.26147145e-01,  1.70772731e-01,\n",
       "         -2.94434398e-01, -5.14317527e-02, -3.41547549e-01,\n",
       "          3.12000513e-01,  2.39375066e-02,  2.76060224e-01,\n",
       "         -5.90603113e-01],\n",
       "        [-2.29769886e-01,  7.76363134e-01, -5.44582307e-01,\n",
       "         -4.05821532e-01,  6.98390841e-01, -3.77293706e-01,\n",
       "          3.68632466e-01, -2.21526131e-01, -3.48247141e-01,\n",
       "         -7.50971556e-01],\n",
       "        [-3.99321645e-01,  2.34523088e-01, -1.64777145e-01,\n",
       "          3.68048698e-01, -5.27724065e-02,  2.39566058e-01,\n",
       "         -6.52483881e-01,  5.45384660e-02, -3.15077722e-01,\n",
       "          1.86333299e-01],\n",
       "        [-3.29059392e-01, -2.84120440e-01,  4.39279258e-01,\n",
       "         -1.56473473e-01,  1.32660329e-01, -1.57301739e-01,\n",
       "          1.81570753e-01, -4.63871099e-02, -6.45076811e-01,\n",
       "          1.48418278e-01],\n",
       "        [ 2.33190209e-01, -3.77374411e-01,  3.30662698e-01,\n",
       "          4.21350487e-02, -8.59586954e-01,  4.28298898e-02,\n",
       "         -3.21748853e-01,  2.59374052e-01, -1.69454411e-01,\n",
       "          1.54565707e-01],\n",
       "        [ 3.01303804e-01, -6.92947447e-01,  1.13260202e-01,\n",
       "         -3.93136919e-01, -9.97464266e-03, -7.86274195e-01,\n",
       "         -2.38470331e-01,  2.63643134e-02,  2.17825517e-01,\n",
       "          2.75640160e-01],\n",
       "        [-6.15694523e-01, -3.14605027e-01,  5.75567298e-02,\n",
       "          3.48851025e-01,  1.25064969e-01,  3.77233654e-01,\n",
       "         -2.65930414e-01, -4.91811782e-01, -1.73259482e-01,\n",
       "          4.79495406e-01],\n",
       "        [ 2.38434225e-01,  3.18947494e-01,  1.48538783e-01,\n",
       "         -4.89306822e-02, -3.19011241e-01, -2.74558496e-02,\n",
       "         -4.63086963e-02,  1.58406690e-01, -4.50221479e-01,\n",
       "         -4.97935146e-01],\n",
       "        [-3.79254937e-01, -1.60790414e-01, -2.03911766e-01,\n",
       "         -5.85418582e-01, -6.50711894e-01,  6.54116750e-01,\n",
       "          8.64794254e-02,  4.55259442e-01,  8.25840794e-03,\n",
       "         -5.53021371e-01],\n",
       "        [ 4.51835990e-02, -6.54881418e-01, -3.95071149e-01,\n",
       "          1.69860888e-02, -6.70800880e-02,  2.19983011e-01,\n",
       "          5.03517874e-02,  1.00961752e-01, -1.02160582e-02,\n",
       "          2.24694625e-01],\n",
       "        [ 2.90509075e-01,  3.33271623e-01, -4.74020004e-01,\n",
       "         -5.41032195e-01,  7.10915998e-02, -1.08256854e-01,\n",
       "          3.35638613e-01,  3.12991619e-01, -1.54607102e-01,\n",
       "          1.74220607e-01],\n",
       "        [ 1.35218352e-01, -1.56113073e-01, -1.71523824e-01,\n",
       "         -1.87546939e-01, -3.31317633e-01,  2.93645322e-01,\n",
       "          3.08228672e-01, -3.33214313e-01,  3.50868106e-01,\n",
       "          3.94256651e-01],\n",
       "        [-3.55716109e-01, -2.82329321e-02, -1.51324198e-01,\n",
       "         -2.40262806e-01,  2.54970014e-01,  2.63155550e-01,\n",
       "          1.83483496e-01, -5.10609329e-01,  3.57393473e-01,\n",
       "         -2.15116650e-01],\n",
       "        [-3.34674925e-01,  1.54674664e-01,  7.34376833e-02,\n",
       "         -6.20404556e-02, -2.35314220e-02, -2.31899589e-01,\n",
       "          3.56070288e-02, -1.03817187e-01,  1.52967378e-01,\n",
       "         -2.17559040e-01],\n",
       "        [-7.23327473e-02, -3.69412631e-01, -1.41929403e-01,\n",
       "          9.02285576e-02, -1.63265079e-01,  1.45715280e-02,\n",
       "         -3.75488669e-01,  7.73299038e-02, -1.02935694e-02,\n",
       "          6.79027848e-03],\n",
       "        [ 9.40577611e-02, -6.77759588e-01, -2.18649015e-01,\n",
       "         -3.41853648e-01,  2.10207656e-01,  3.39168578e-01,\n",
       "          2.70828038e-01, -2.28265136e-01,  1.95525542e-01,\n",
       "          1.34443611e-01],\n",
       "        [ 3.85391936e-02, -3.99390727e-01, -1.58853248e-01,\n",
       "         -1.83887538e-02, -6.77499697e-02,  1.03192389e-01,\n",
       "          5.77751212e-02,  4.74735424e-02,  1.51391581e-01,\n",
       "          1.03603326e-01],\n",
       "        [-3.03271919e-01,  1.20857777e-02,  2.69714713e-01,\n",
       "         -6.51626289e-03,  2.18276218e-01, -2.37234861e-01,\n",
       "         -1.52801812e-01,  3.41181487e-01,  1.42896222e-02,\n",
       "         -5.36493957e-01],\n",
       "        [-7.00991869e-01,  1.87639877e-01, -5.53988278e-01,\n",
       "          4.37285155e-01, -2.94824094e-01,  5.19494474e-01,\n",
       "         -7.45525301e-01,  1.57269865e-01, -4.56662446e-01,\n",
       "          4.25463438e-01],\n",
       "        [ 8.42819363e-02, -3.14212680e-01, -1.97843518e-02,\n",
       "          9.33824331e-02,  1.31234691e-01,  1.46232501e-01,\n",
       "          7.03621134e-02, -2.95430660e-01,  1.51313990e-01,\n",
       "         -1.94811448e-01],\n",
       "        [-5.12593329e-01,  6.36794329e-01,  7.76469782e-02,\n",
       "         -3.09807807e-01,  1.31372482e-01,  4.56555933e-02,\n",
       "          1.79480854e-02,  4.09077972e-01, -1.42979324e-01,\n",
       "          1.49267226e-01],\n",
       "        [-1.13798611e-01,  2.99425930e-01, -8.43922257e-01,\n",
       "          1.20099753e-01, -1.06812410e-01, -8.21389630e-02,\n",
       "         -4.72475052e-01,  1.31453760e-02, -2.68246263e-01,\n",
       "          2.44633481e-01],\n",
       "        [-2.36799389e-01, -1.97023585e-01, -1.22642063e-01,\n",
       "          8.34313482e-02, -8.38172361e-02,  5.88187464e-02,\n",
       "          7.48293996e-02,  3.65403928e-02,  1.42212749e-01,\n",
       "         -2.56643265e-01],\n",
       "        [ 2.53469586e-01,  1.51532531e-01,  2.02581301e-01,\n",
       "         -1.42572924e-01,  1.75321281e-01,  1.55155033e-01,\n",
       "         -9.49702859e-02, -1.37199551e-01,  1.78542554e-01,\n",
       "         -3.72630894e-01],\n",
       "        [-2.37093326e-02,  1.12441719e-01, -2.55730301e-01,\n",
       "         -5.76134026e-01,  2.70273805e-01, -2.44740829e-01,\n",
       "         -2.45773703e-01,  6.18434511e-02, -2.49627069e-01,\n",
       "          4.87360582e-02],\n",
       "        [ 2.22268105e-01, -1.74301788e-01,  4.06125486e-01,\n",
       "          1.18312508e-01,  2.06834182e-01, -3.47048134e-01,\n",
       "          1.33335084e-01,  3.82844359e-01, -5.60140193e-01,\n",
       "         -9.67834145e-02],\n",
       "        [-3.41833681e-01, -8.18225145e-02,  9.13296491e-02,\n",
       "          7.00375661e-02,  3.36972028e-02,  7.15886131e-02,\n",
       "          5.07169925e-02, -2.44929507e-01,  1.80645481e-01,\n",
       "          7.60567263e-02],\n",
       "        [-1.38057619e-01,  4.23962146e-01,  1.36713803e-01,\n",
       "          4.66801554e-01,  4.60474432e-01, -8.74891102e-01,\n",
       "         -6.52773499e-01,  1.50767431e-01, -8.01487733e-03,\n",
       "          8.49543512e-02],\n",
       "        [ 3.96082886e-02, -3.58835757e-01, -2.68068016e-01,\n",
       "         -2.93638319e-01, -3.10898542e-01, -1.50014445e-01,\n",
       "         -1.41346291e-01, -2.76447356e-01, -8.39251652e-02,\n",
       "          5.80629945e-01],\n",
       "        [ 2.41544321e-01, -5.88407852e-02,  1.30884051e-01,\n",
       "          1.43041372e-01, -6.20011091e-01,  2.03603312e-01,\n",
       "         -3.03902656e-01, -4.78462130e-01, -5.10017216e-01,\n",
       "          7.88628124e-03],\n",
       "        [-3.39286402e-02,  3.06753982e-02, -8.33307728e-02,\n",
       "          1.40256777e-01, -1.03855141e-01,  3.07689868e-02,\n",
       "          1.05557395e-02, -3.56555909e-01,  1.58373177e-01,\n",
       "          1.53582096e-01],\n",
       "        [ 1.66433543e-01,  3.21802825e-01,  1.27431527e-01,\n",
       "         -2.99813360e-01,  7.60945678e-02,  1.22341244e-02,\n",
       "         -1.85353041e-01, -4.09865260e-01,  8.06692839e-02,\n",
       "          9.85295847e-02],\n",
       "        [-2.87912518e-01, -9.93552133e-02, -6.61245137e-02,\n",
       "          2.48422384e-01, -1.69928987e-02, -9.37867343e-01,\n",
       "          5.18611729e-01,  5.74069358e-02, -3.61067027e-01,\n",
       "          4.51325253e-03],\n",
       "        [-3.42081673e-03, -3.30588184e-02,  2.08962739e-01,\n",
       "          1.87806427e-01, -4.75512356e-01,  1.71429038e-01,\n",
       "          6.66160733e-02, -4.65792686e-01,  2.42797777e-01,\n",
       "         -1.54613867e-01],\n",
       "        [ 3.11453015e-01,  3.55927795e-02,  3.00741196e-02,\n",
       "          1.37226999e-01, -2.40971208e-01,  1.77100271e-01,\n",
       "         -1.29048347e-01,  4.11080897e-01, -6.88271880e-01,\n",
       "         -2.25635007e-01],\n",
       "        [ 1.43605322e-01, -4.25146937e-01,  2.93642163e-01,\n",
       "         -4.87069935e-02,  2.83791214e-01,  6.27978966e-02,\n",
       "          2.62327969e-01, -4.71671313e-01, -7.61463270e-02,\n",
       "         -1.31798178e-01],\n",
       "        [-1.24758251e-01,  9.09740254e-02,  3.58699113e-01,\n",
       "         -2.66601771e-01, -2.72939175e-01, -5.93629539e-01,\n",
       "          3.03943217e-01,  3.76558840e-01, -3.55309956e-02,\n",
       "         -5.43025970e-01],\n",
       "        [ 1.70374602e-01,  5.01516275e-02,  1.21428452e-01,\n",
       "          1.57580405e-01,  9.56881866e-02, -1.20210528e-01,\n",
       "          2.01735720e-01, -2.53992826e-01,  2.22430140e-01,\n",
       "          1.06656186e-01],\n",
       "        [-3.30633432e-01, -2.75011986e-01,  4.62633103e-01,\n",
       "          4.52032089e-01, -2.10881203e-01, -1.92926988e-01,\n",
       "         -4.24616009e-01,  5.41450262e-01, -1.32646620e-01,\n",
       "         -9.44386184e-01]], dtype=float32),\n",
       " array([-0.1431459 , -0.05111253,  0.04727294, -0.05410272,  0.0535348 ,\n",
       "         0.13482639, -0.05915056, -0.05178293,  0.11007147, -0.0699538 ],\n",
       "       dtype=float32)]"
      ]
     },
     "execution_count": 13,
     "metadata": {},
     "output_type": "execute_result"
    }
   ],
   "source": [
    "model.get_weights()"
   ]
  }
 ],
 "metadata": {
  "kernelspec": {
   "display_name": "Python 3",
   "language": "python",
   "name": "python3"
  },
  "language_info": {
   "codemirror_mode": {
    "name": "ipython",
    "version": 3
   },
   "file_extension": ".py",
   "mimetype": "text/x-python",
   "name": "python",
   "nbconvert_exporter": "python",
   "pygments_lexer": "ipython3",
   "version": "3.10.6"
  }
 },
 "nbformat": 4,
 "nbformat_minor": 4
}
