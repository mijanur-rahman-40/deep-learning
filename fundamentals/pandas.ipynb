{
 "cells": [
  {
   "cell_type": "code",
   "execution_count": 63,
   "metadata": {},
   "outputs": [
    {
     "name": "stdout",
     "output_type": "stream",
     "text": [
      "    A\n",
      "9  10\n",
      "5   6\n",
      "    A\n",
      "2   3\n",
      "9  10\n"
     ]
    }
   ],
   "source": [
    "import pandas as pd\n",
    "\n",
    "df = pd.DataFrame({'A': [1, 2, 3, 4, 5, 6, 7, 8, 9 ,10]})\n",
    "\n",
    "# Randomly sample 2 rows from the DataFrame\n",
    "sample1 = df.sample(n=2, random_state=5)\n",
    "\n",
    "# Randomly sample 2 rows again with the same random_state\n",
    "sample2 = df.sample(n=2, random_state=1)\n",
    "\n",
    "print(sample1)\n",
    "print(sample2)"
   ]
  }
 ],
 "metadata": {
  "kernelspec": {
   "display_name": "venv",
   "language": "python",
   "name": "python3"
  },
  "language_info": {
   "codemirror_mode": {
    "name": "ipython",
    "version": 3
   },
   "file_extension": ".py",
   "mimetype": "text/x-python",
   "name": "python",
   "nbconvert_exporter": "python",
   "pygments_lexer": "ipython3",
   "version": "3.10.6"
  },
  "orig_nbformat": 4
 },
 "nbformat": 4,
 "nbformat_minor": 2
}
