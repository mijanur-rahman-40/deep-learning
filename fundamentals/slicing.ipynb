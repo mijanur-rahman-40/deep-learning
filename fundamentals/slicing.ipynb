{
 "cells": [
  {
   "cell_type": "code",
   "execution_count": null,
   "metadata": {},
   "outputs": [],
   "source": [
    "my_slice = train_images[10:100]\n",
    "my_slice = train_images[10:100, :, :]\n",
    "my_slice = train_images[10:100, 0:28, 0:28]\n",
    "\n",
    "# Selects bottom-right corner of all images\n",
    "my_slice = train_images[:, 14:, 14:]\n",
    "#  Selects patches of 14 × 14 pixels centered in the middle (uses negative index)\n",
    "my_slice = train_images[:, 7:-7, 7:-7]\n",
    "my_slice = train_images[10:12, 7:-7, 7:-7]\n",
    "# Another way : Selects patches of 14 × 14 pixels centered in the middle (uses negative index)\n",
    "my_slice = train_images[10:12, 7:21, 7:21]"
   ]
  }
 ],
 "metadata": {
  "language_info": {
   "name": "python"
  },
  "orig_nbformat": 4
 },
 "nbformat": 4,
 "nbformat_minor": 2
}
