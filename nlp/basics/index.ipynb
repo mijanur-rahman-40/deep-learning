{
 "cells": [
  {
   "attachments": {},
   "cell_type": "markdown",
   "metadata": {},
   "source": [
    "##### __Three main NLP Techniques__\n",
    "\n",
    "1. Rules & Heuristics (Regex etc.)\n",
    "2. Machine Learning\n",
    "3. Deep Learning\n",
    "   \n",
    "##### __NLP Tasks__\n",
    "\n",
    "1. Text Classification\n",
    "2. Text Similiraty(Pegasus)\n",
    "3. Information Extraction(Keword Based)\n",
    "4. Information Retrieval\n",
    "5. Chat Bots[FAQ Bot, Flow-Based Bot, Open-Ended Bot]\n",
    "6. Machine Translation{RNN- Encode/Decoder}\n",
    "7. Language Modeling(Sentence Auto Comlete Task)\n",
    "8. Text Summarization\n",
    "9. Topic Modeling(Retrieving Abstract Topics)\n",
    "10. Voice Assistants"
   ]
  },
  {
   "attachments": {},
   "cell_type": "markdown",
   "metadata": {},
   "source": [
    "##### Before Moving to NLP\n",
    "1. https://youtu.be/m_CooIRM3UI -> Cosine similarity, cosine distance explained | Math, Statistics for data science, machine learning\n",
    "2. https://youtu.be/7kLi8u2dJz0?list=PLeo1K3hjS3uu7CxAacxVndI4bE_o3BDtO -> What is BERT? | Deep Learning Tutorial 46 (Tensorflow, Keras & Python)\n",
    "3. https://youtu.be/hOCDJyZ6quA?list=PLeo1K3hjS3uu7CxAacxVndI4bE_o3BDtO -> Text Classification Using BERT & Tensorflow | Deep Learning Tutorial 47 (Tensorflow, Keras & Python)\n",
    "4. https://youtu.be/HdlDYng8g9s -> Machine Learning Tutorial Python - 16: Hyper parameter Tuning (GridSearchCV)"
   ]
  },
  {
   "attachments": {},
   "cell_type": "markdown",
   "metadata": {},
   "source": [
    "##### Text Preprocessing Using (spaCy & NLTK)"
   ]
  },
  {
   "cell_type": "code",
   "execution_count": 4,
   "metadata": {},
   "outputs": [
    {
     "ename": "ImportError",
     "evalue": "Unable to import required dependencies:\npytz: cannot import name 'Mapping' from 'collections' (/usr/lib/python3.10/collections/__init__.py)",
     "output_type": "error",
     "traceback": [
      "\u001b[0;31m---------------------------------------------------------------------------\u001b[0m",
      "\u001b[0;31mImportError\u001b[0m                               Traceback (most recent call last)",
      "Cell \u001b[0;32mIn[4], line 2\u001b[0m\n\u001b[1;32m      1\u001b[0m \u001b[39mimport\u001b[39;00m \u001b[39mnumpy\u001b[39;00m \u001b[39mas\u001b[39;00m \u001b[39mnp\u001b[39;00m\n\u001b[0;32m----> 2\u001b[0m \u001b[39mimport\u001b[39;00m \u001b[39mpandas\u001b[39;00m \u001b[39mas\u001b[39;00m \u001b[39mpd\u001b[39;00m\n",
      "File \u001b[0;32m~/Desktop/DEEP LEARNING/deep-learning/.venv/lib/python3.10/site-packages/pandas/__init__.py:16\u001b[0m\n\u001b[1;32m     13\u001b[0m         _missing_dependencies\u001b[39m.\u001b[39mappend(\u001b[39mf\u001b[39m\u001b[39m\"\u001b[39m\u001b[39m{\u001b[39;00m_dependency\u001b[39m}\u001b[39;00m\u001b[39m: \u001b[39m\u001b[39m{\u001b[39;00m_e\u001b[39m}\u001b[39;00m\u001b[39m\"\u001b[39m)\n\u001b[1;32m     15\u001b[0m \u001b[39mif\u001b[39;00m _missing_dependencies:\n\u001b[0;32m---> 16\u001b[0m     \u001b[39mraise\u001b[39;00m \u001b[39mImportError\u001b[39;00m(\n\u001b[1;32m     17\u001b[0m         \u001b[39m\"\u001b[39m\u001b[39mUnable to import required dependencies:\u001b[39m\u001b[39m\\n\u001b[39;00m\u001b[39m\"\u001b[39m \u001b[39m+\u001b[39m \u001b[39m\"\u001b[39m\u001b[39m\\n\u001b[39;00m\u001b[39m\"\u001b[39m\u001b[39m.\u001b[39mjoin(_missing_dependencies)\n\u001b[1;32m     18\u001b[0m     )\n\u001b[1;32m     19\u001b[0m \u001b[39mdel\u001b[39;00m _hard_dependencies, _dependency, _missing_dependencies\n\u001b[1;32m     21\u001b[0m \u001b[39m# numpy compat\u001b[39;00m\n",
      "\u001b[0;31mImportError\u001b[0m: Unable to import required dependencies:\npytz: cannot import name 'Mapping' from 'collections' (/usr/lib/python3.10/collections/__init__.py)"
     ]
    }
   ],
   "source": [
    "import numpy as np"
   ]
  }
 ],
 "metadata": {
  "kernelspec": {
   "display_name": "Python 3",
   "language": "python",
   "name": "python3"
  },
  "language_info": {
   "codemirror_mode": {
    "name": "ipython",
    "version": 3
   },
   "file_extension": ".py",
   "mimetype": "text/x-python",
   "name": "python",
   "nbconvert_exporter": "python",
   "pygments_lexer": "ipython3",
   "version": "3.10.6"
  },
  "orig_nbformat": 4
 },
 "nbformat": 4,
 "nbformat_minor": 2
}
