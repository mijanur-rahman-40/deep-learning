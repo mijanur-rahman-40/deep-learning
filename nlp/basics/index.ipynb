{
 "cells": [
  {
   "attachments": {},
   "cell_type": "markdown",
   "metadata": {},
   "source": [
    "##### __Three main NLP Techniques__\n",
    "\n",
    "1. Rules & Heuristics (Regex etc.)\n",
    "2. Machine Learning\n",
    "3. Deep Learning\n",
    "   \n",
    "##### __NLP Tasks__\n",
    "\n",
    "1. Text Classification\n",
    "2. Text Similiraty(Pegasus)\n",
    "3. Information Extraction(Keword Based)\n",
    "4. Information Retrieval\n",
    "5. Chat Bots[FAQ Bot, Flow-Based Bot, Open-Ended Bot]\n",
    "6. Machine Translation{RNN- Encode/Decoder}\n",
    "7. Language Modeling(Sentence Auto Comlete Task)\n",
    "8. Text Summarization\n",
    "9. Topic Modeling(Retrieving Abstract Topics)\n",
    "10. Voice Assistants"
   ]
  },
  {
   "attachments": {},
   "cell_type": "markdown",
   "metadata": {},
   "source": [
    "##### Before Moving to NLP\n",
    "1. https://youtu.be/m_CooIRM3UI -> Cosine similarity, cosine distance explained | Math, Statistics for data science, machine learning\n",
    "2. https://youtu.be/7kLi8u2dJz0?list=PLeo1K3hjS3uu7CxAacxVndI4bE_o3BDtO -> What is BERT? | Deep Learning Tutorial 46 (Tensorflow, Keras & Python)\n",
    "3. https://youtu.be/hOCDJyZ6quA?list=PLeo1K3hjS3uu7CxAacxVndI4bE_o3BDtO -> Text Classification Using BERT & Tensorflow | Deep Learning Tutorial 47 (Tensorflow, Keras & Python)\n",
    "4. https://youtu.be/HdlDYng8g9s -> Machine Learning Tutorial Python - 16: Hyper parameter Tuning (GridSearchCV)"
   ]
  },
  {
   "attachments": {},
   "cell_type": "markdown",
   "metadata": {},
   "source": [
    "##### Text Preprocessing Using (spaCy & NLTK)"
   ]
  },
  {
   "cell_type": "code",
   "execution_count": 2,
   "metadata": {},
   "outputs": [],
   "source": [
    "import numpy as np\n",
    "import spacy"
   ]
  }
 ],
 "metadata": {
  "kernelspec": {
   "display_name": "Python 3",
   "language": "python",
   "name": "python3"
  },
  "language_info": {
   "codemirror_mode": {
    "name": "ipython",
    "version": 3
   },
   "file_extension": ".py",
   "mimetype": "text/x-python",
   "name": "python",
   "nbconvert_exporter": "python",
   "pygments_lexer": "ipython3",
   "version": "3.10.6"
  },
  "orig_nbformat": 4
 },
 "nbformat": 4,
 "nbformat_minor": 2
}
