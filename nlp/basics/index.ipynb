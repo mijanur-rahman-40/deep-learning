{
 "cells": [
  {
   "attachments": {},
   "cell_type": "markdown",
   "metadata": {},
   "source": [
    "##### __Three main NLP Techniques__\n",
    "\n",
    "1. Rules & Heuristics (Regex etc.)\n",
    "2. Machine Learning\n",
    "3. Deep Learning"
   ]
  },
  {
   "attachments": {},
   "cell_type": "markdown",
   "metadata": {},
   "source": [
    "##### Before Moving to NLP\n",
    "1. https://youtu.be/m_CooIRM3UI -> Cosine similarity, cosine distance explained | Math, Statistics for data science, machine learning\n",
    "2. https://youtu.be/7kLi8u2dJz0?list=PLeo1K3hjS3uu7CxAacxVndI4bE_o3BDtO -> What is BERT? | Deep Learning Tutorial 46 (Tensorflow, Keras & Python)\n",
    "3. https://youtu.be/hOCDJyZ6quA?list=PLeo1K3hjS3uu7CxAacxVndI4bE_o3BDtO -> Text Classification Using BERT & Tensorflow | Deep Learning Tutorial 47 (Tensorflow, Keras & Python)"
   ]
  },
  {
   "cell_type": "markdown",
   "metadata": {},
   "source": []
  }
 ],
 "metadata": {
  "kernelspec": {
   "display_name": "Python 3",
   "language": "python",
   "name": "python3"
  },
  "language_info": {
   "codemirror_mode": {
    "name": "ipython",
    "version": 3
   },
   "file_extension": ".py",
   "mimetype": "text/x-python",
   "name": "python",
   "nbconvert_exporter": "python",
   "pygments_lexer": "ipython3",
   "version": "3.10.6"
  },
  "orig_nbformat": 4
 },
 "nbformat": 4,
 "nbformat_minor": 2
}
